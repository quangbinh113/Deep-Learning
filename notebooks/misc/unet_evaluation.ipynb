{
 "cells": [
  {
   "cell_type": "code",
   "execution_count": 1,
   "id": "9f0a3c4a",
   "metadata": {},
   "outputs": [],
   "source": [
    "import pandas as pd"
   ]
  },
  {
   "cell_type": "code",
   "execution_count": 2,
   "id": "8ee167d7",
   "metadata": {},
   "outputs": [
    {
     "data": {
      "text/html": [
       "<div>\n",
       "<style scoped>\n",
       "    .dataframe tbody tr th:only-of-type {\n",
       "        vertical-align: middle;\n",
       "    }\n",
       "\n",
       "    .dataframe tbody tr th {\n",
       "        vertical-align: top;\n",
       "    }\n",
       "\n",
       "    .dataframe thead th {\n",
       "        text-align: right;\n",
       "    }\n",
       "</style>\n",
       "<table border=\"1\" class=\"dataframe\">\n",
       "  <thead>\n",
       "    <tr style=\"text-align: right;\">\n",
       "      <th></th>\n",
       "      <th>no</th>\n",
       "      <th>x</th>\n",
       "      <th>y</th>\n",
       "      <th>w</th>\n",
       "      <th>h</th>\n",
       "      <th>contrast</th>\n",
       "    </tr>\n",
       "  </thead>\n",
       "  <tbody>\n",
       "    <tr>\n",
       "      <th>0</th>\n",
       "      <td>Sample_1\\frame_0009.png</td>\n",
       "      <td>1194</td>\n",
       "      <td>689</td>\n",
       "      <td>5</td>\n",
       "      <td>5</td>\n",
       "      <td>10</td>\n",
       "    </tr>\n",
       "    <tr>\n",
       "      <th>1</th>\n",
       "      <td>Sample_1\\frame_0055.png</td>\n",
       "      <td>1138</td>\n",
       "      <td>642</td>\n",
       "      <td>5</td>\n",
       "      <td>5</td>\n",
       "      <td>10</td>\n",
       "    </tr>\n",
       "    <tr>\n",
       "      <th>2</th>\n",
       "      <td>Sample_1\\frame_0060.png</td>\n",
       "      <td>1133</td>\n",
       "      <td>638</td>\n",
       "      <td>5</td>\n",
       "      <td>5</td>\n",
       "      <td>10</td>\n",
       "    </tr>\n",
       "    <tr>\n",
       "      <th>3</th>\n",
       "      <td>Sample_1\\frame_0077.png</td>\n",
       "      <td>1116</td>\n",
       "      <td>611</td>\n",
       "      <td>5</td>\n",
       "      <td>5</td>\n",
       "      <td>10</td>\n",
       "    </tr>\n",
       "    <tr>\n",
       "      <th>4</th>\n",
       "      <td>Sample_1\\frame_0082.png</td>\n",
       "      <td>1113</td>\n",
       "      <td>612</td>\n",
       "      <td>5</td>\n",
       "      <td>5</td>\n",
       "      <td>10</td>\n",
       "    </tr>\n",
       "  </tbody>\n",
       "</table>\n",
       "</div>"
      ],
      "text/plain": [
       "                        no     x    y  w  h  contrast\n",
       "0  Sample_1\\frame_0009.png  1194  689  5  5        10\n",
       "1  Sample_1\\frame_0055.png  1138  642  5  5        10\n",
       "2  Sample_1\\frame_0060.png  1133  638  5  5        10\n",
       "3  Sample_1\\frame_0077.png  1116  611  5  5        10\n",
       "4  Sample_1\\frame_0082.png  1113  612  5  5        10"
      ]
     },
     "execution_count": 2,
     "metadata": {},
     "output_type": "execute_result"
    }
   ],
   "source": [
    "gt_test = pd.DataFrame(pd.read_csv('annotation_test.csv'))\n",
    "gt_test.head()"
   ]
  },
  {
   "cell_type": "code",
   "execution_count": 33,
   "id": "7f1d49ef",
   "metadata": {},
   "outputs": [
    {
     "data": {
      "text/plain": [
       "4206"
      ]
     },
     "execution_count": 33,
     "metadata": {},
     "output_type": "execute_result"
    }
   ],
   "source": [
    "gt_dict = {}\n",
    "for data in gt_test.itertuples():\n",
    "    gt_dict[data[1]] = (data[2],data[3],data[4],data[5])\n",
    "len(gt_dict)"
   ]
  },
  {
   "cell_type": "code",
   "execution_count": 14,
   "id": "fbc4665b",
   "metadata": {},
   "outputs": [],
   "source": [
    "def replace_sep(s):\n",
    "    return s.replace('/','\\\\')"
   ]
  },
  {
   "cell_type": "code",
   "execution_count": 16,
   "id": "027a8310",
   "metadata": {},
   "outputs": [
    {
     "data": {
      "text/html": [
       "<div>\n",
       "<style scoped>\n",
       "    .dataframe tbody tr th:only-of-type {\n",
       "        vertical-align: middle;\n",
       "    }\n",
       "\n",
       "    .dataframe tbody tr th {\n",
       "        vertical-align: top;\n",
       "    }\n",
       "\n",
       "    .dataframe thead th {\n",
       "        text-align: right;\n",
       "    }\n",
       "</style>\n",
       "<table border=\"1\" class=\"dataframe\">\n",
       "  <thead>\n",
       "    <tr style=\"text-align: right;\">\n",
       "      <th></th>\n",
       "      <th>Sample</th>\n",
       "      <th>x</th>\n",
       "      <th>y</th>\n",
       "      <th>w</th>\n",
       "      <th>h</th>\n",
       "    </tr>\n",
       "  </thead>\n",
       "  <tbody>\n",
       "    <tr>\n",
       "      <th>0</th>\n",
       "      <td>Sample_39\\frame_0617.png</td>\n",
       "      <td>629</td>\n",
       "      <td>67</td>\n",
       "      <td>5</td>\n",
       "      <td>5</td>\n",
       "    </tr>\n",
       "    <tr>\n",
       "      <th>1</th>\n",
       "      <td>Sample_2\\frame_0595.png</td>\n",
       "      <td>627</td>\n",
       "      <td>131</td>\n",
       "      <td>5</td>\n",
       "      <td>5</td>\n",
       "    </tr>\n",
       "    <tr>\n",
       "      <th>2</th>\n",
       "      <td>Sample_44\\frame_0186.png</td>\n",
       "      <td>1011</td>\n",
       "      <td>523</td>\n",
       "      <td>5</td>\n",
       "      <td>5</td>\n",
       "    </tr>\n",
       "    <tr>\n",
       "      <th>3</th>\n",
       "      <td>Sample_51\\frame_0328.png</td>\n",
       "      <td>885</td>\n",
       "      <td>345</td>\n",
       "      <td>5</td>\n",
       "      <td>5</td>\n",
       "    </tr>\n",
       "    <tr>\n",
       "      <th>4</th>\n",
       "      <td>Sample_47\\frame_0336.png</td>\n",
       "      <td>862</td>\n",
       "      <td>347</td>\n",
       "      <td>5</td>\n",
       "      <td>5</td>\n",
       "    </tr>\n",
       "  </tbody>\n",
       "</table>\n",
       "</div>"
      ],
      "text/plain": [
       "                     Sample     x    y  w  h\n",
       "0  Sample_39\\frame_0617.png   629   67  5  5\n",
       "1   Sample_2\\frame_0595.png   627  131  5  5\n",
       "2  Sample_44\\frame_0186.png  1011  523  5  5\n",
       "3  Sample_51\\frame_0328.png   885  345  5  5\n",
       "4  Sample_47\\frame_0336.png   862  347  5  5"
      ]
     },
     "execution_count": 16,
     "metadata": {},
     "output_type": "execute_result"
    }
   ],
   "source": [
    "test_res = pd.DataFrame(pd.read_csv('unet_results.csv')).iloc[:,1:]\n",
    "test_res['Sample'] = test_res['Sample'].apply(replace_sep)\n",
    "test_res.head()"
   ]
  },
  {
   "cell_type": "code",
   "execution_count": 47,
   "id": "3351903d",
   "metadata": {},
   "outputs": [
    {
     "data": {
      "text/plain": [
       "4141"
      ]
     },
     "execution_count": 47,
     "metadata": {},
     "output_type": "execute_result"
    }
   ],
   "source": [
    "test_dict = {}\n",
    "for data in test_res.itertuples():\n",
    "    if data[1] in test_dict:\n",
    "        test_dict[data[1]].append((data[2],data[3],data[4],data[5]))\n",
    "    else:\n",
    "        test_dict[data[1]] = [(data[2],data[3],data[4],data[5])]\n",
    "len(test_dict)"
   ]
  },
  {
   "cell_type": "code",
   "execution_count": 40,
   "id": "2c8f7740",
   "metadata": {},
   "outputs": [],
   "source": [
    "def IoU(b1, b2):\n",
    "    x1,y1,w1,h1 = b1\n",
    "    x2,y2,w2,h2 = b2\n",
    "    xA = max(x1, x2)\n",
    "    yA = max(y1, y2)\n",
    "    xB = min(x1+w1, x2+w2)\n",
    "    yB = min(y1+h1, y2+h2)\n",
    "\n",
    "    inter = max(0, xB - xA) * max(0, yB - yA)\n",
    "    \n",
    "    return inter/(w1*h1+w2*h2-inter)"
   ]
  },
  {
   "cell_type": "code",
   "execution_count": 41,
   "id": "31576601",
   "metadata": {},
   "outputs": [
    {
     "data": {
      "text/html": [
       "<div>\n",
       "<style scoped>\n",
       "    .dataframe tbody tr th:only-of-type {\n",
       "        vertical-align: middle;\n",
       "    }\n",
       "\n",
       "    .dataframe tbody tr th {\n",
       "        vertical-align: top;\n",
       "    }\n",
       "\n",
       "    .dataframe thead th {\n",
       "        text-align: right;\n",
       "    }\n",
       "</style>\n",
       "<table border=\"1\" class=\"dataframe\">\n",
       "  <thead>\n",
       "    <tr style=\"text-align: right;\">\n",
       "      <th></th>\n",
       "      <th>Sample</th>\n",
       "      <th>no_detections</th>\n",
       "      <th>iou=1</th>\n",
       "      <th>iou&gt;0.5</th>\n",
       "      <th>iou&gt;0</th>\n",
       "      <th>IoU</th>\n",
       "      <th>false_alarms</th>\n",
       "    </tr>\n",
       "  </thead>\n",
       "  <tbody>\n",
       "    <tr>\n",
       "      <th>0</th>\n",
       "      <td>Sample_1\\frame_0009.png</td>\n",
       "      <td>1</td>\n",
       "      <td>1</td>\n",
       "      <td>1</td>\n",
       "      <td>1</td>\n",
       "      <td>1.0</td>\n",
       "      <td>0</td>\n",
       "    </tr>\n",
       "    <tr>\n",
       "      <th>1</th>\n",
       "      <td>Sample_1\\frame_0055.png</td>\n",
       "      <td>1</td>\n",
       "      <td>1</td>\n",
       "      <td>1</td>\n",
       "      <td>1</td>\n",
       "      <td>1.0</td>\n",
       "      <td>0</td>\n",
       "    </tr>\n",
       "    <tr>\n",
       "      <th>2</th>\n",
       "      <td>Sample_1\\frame_0060.png</td>\n",
       "      <td>1</td>\n",
       "      <td>1</td>\n",
       "      <td>1</td>\n",
       "      <td>1</td>\n",
       "      <td>1.0</td>\n",
       "      <td>0</td>\n",
       "    </tr>\n",
       "    <tr>\n",
       "      <th>3</th>\n",
       "      <td>Sample_1\\frame_0077.png</td>\n",
       "      <td>1</td>\n",
       "      <td>1</td>\n",
       "      <td>1</td>\n",
       "      <td>1</td>\n",
       "      <td>1.0</td>\n",
       "      <td>0</td>\n",
       "    </tr>\n",
       "    <tr>\n",
       "      <th>4</th>\n",
       "      <td>Sample_1\\frame_0082.png</td>\n",
       "      <td>1</td>\n",
       "      <td>1</td>\n",
       "      <td>1</td>\n",
       "      <td>1</td>\n",
       "      <td>1.0</td>\n",
       "      <td>0</td>\n",
       "    </tr>\n",
       "  </tbody>\n",
       "</table>\n",
       "</div>"
      ],
      "text/plain": [
       "                    Sample  no_detections  iou=1  iou>0.5  iou>0  IoU  \\\n",
       "0  Sample_1\\frame_0009.png              1      1        1      1  1.0   \n",
       "1  Sample_1\\frame_0055.png              1      1        1      1  1.0   \n",
       "2  Sample_1\\frame_0060.png              1      1        1      1  1.0   \n",
       "3  Sample_1\\frame_0077.png              1      1        1      1  1.0   \n",
       "4  Sample_1\\frame_0082.png              1      1        1      1  1.0   \n",
       "\n",
       "   false_alarms  \n",
       "0             0  \n",
       "1             0  \n",
       "2             0  \n",
       "3             0  \n",
       "4             0  "
      ]
     },
     "execution_count": 41,
     "metadata": {},
     "output_type": "execute_result"
    }
   ],
   "source": [
    "result_df = {'Sample':[],'no_detections':[],'iou=1':[], 'iou>0.5':[], 'iou>0':[],'IoU':[],'false_alarms':[]}\n",
    "for sample in gt_dict:\n",
    "    result_df['Sample'].append(sample)\n",
    "    if sample not in test_dict:\n",
    "        for col in result_df:\n",
    "            if col == 'Sample':\n",
    "                continue\n",
    "            else:\n",
    "                result_df[col].append(0)\n",
    "    else:\n",
    "        result_df['no_detections'].append(len(test_dict[sample]))\n",
    "        IoU_val = 0\n",
    "        b_gt = gt_dict[sample]\n",
    "        for bbox in test_dict[sample]:\n",
    "            IoU_val += IoU(b_gt,bbox)\n",
    "        result_df['IoU'].append(IoU_val)\n",
    "        result_df['iou=1'].append(int(IoU_val>0.99))\n",
    "        result_df['iou>0.5'].append(int(IoU_val>0.5))\n",
    "        result_df['iou>0'].append(int(IoU_val>0.01))\n",
    "        result_df['false_alarms'].append(len(test_dict[sample]) - int(IoU_val>0.01))\n",
    "            \n",
    "result_df = pd.DataFrame(result_df)\n",
    "result_df.head()"
   ]
  },
  {
   "cell_type": "code",
   "execution_count": 66,
   "id": "b052b0a1",
   "metadata": {},
   "outputs": [
    {
     "data": {
      "text/plain": [
       "1.5454113171659534"
      ]
     },
     "execution_count": 66,
     "metadata": {},
     "output_type": "execute_result"
    }
   ],
   "source": [
    "result_df.loc[result_df.no_detections == 0].shape[0]/len(gt_dict)*100 # no detection rate"
   ]
  },
  {
   "cell_type": "code",
   "execution_count": 67,
   "id": "ad1c77ed",
   "metadata": {},
   "outputs": [
    {
     "data": {
      "text/plain": [
       "0.11887779362815026"
      ]
     },
     "execution_count": 67,
     "metadata": {},
     "output_type": "execute_result"
    }
   ],
   "source": [
    "result_df.loc[result_df.no_detections > 1].shape[0]/len(gt_dict)*100 # more than 1 detection rate"
   ]
  },
  {
   "cell_type": "code",
   "execution_count": 68,
   "id": "831abe69",
   "metadata": {},
   "outputs": [
    {
     "data": {
      "text/plain": [
       "92.93865905848787"
      ]
     },
     "execution_count": 68,
     "metadata": {},
     "output_type": "execute_result"
    }
   ],
   "source": [
    "result_df.sum(axis = 0)['iou=1']/len(gt_dict)*100 #iou = 1 rate"
   ]
  },
  {
   "cell_type": "code",
   "execution_count": 69,
   "id": "b44cc385",
   "metadata": {},
   "outputs": [
    {
     "data": {
      "text/plain": [
       "98.14550641940085"
      ]
     },
     "execution_count": 69,
     "metadata": {},
     "output_type": "execute_result"
    }
   ],
   "source": [
    "result_df.sum(axis = 0)['iou>0.5']/len(gt_dict)*100 #iou > 0.5 rate"
   ]
  },
  {
   "cell_type": "code",
   "execution_count": 70,
   "id": "d9f37c8f",
   "metadata": {},
   "outputs": [
    {
     "data": {
      "text/plain": [
       "98.43081312410843"
      ]
     },
     "execution_count": 70,
     "metadata": {},
     "output_type": "execute_result"
    }
   ],
   "source": [
    "result_df.sum(axis = 0)['iou>0']/len(gt_dict)*100 #successfully detected rate"
   ]
  },
  {
   "cell_type": "code",
   "execution_count": 71,
   "id": "66c7e2e5",
   "metadata": {},
   "outputs": [
    {
     "data": {
      "text/plain": [
       "97.11023866671411"
      ]
     },
     "execution_count": 71,
     "metadata": {},
     "output_type": "execute_result"
    }
   ],
   "source": [
    "result_df.sum(axis = 0)['IoU']/len(gt_dict)*100 #avg IoU"
   ]
  },
  {
   "cell_type": "code",
   "execution_count": 72,
   "id": "ec3fc186",
   "metadata": {},
   "outputs": [
    {
     "data": {
      "text/plain": [
       "0.14265335235378032"
      ]
     },
     "execution_count": 72,
     "metadata": {},
     "output_type": "execute_result"
    }
   ],
   "source": [
    "result_df.sum(axis = 0)['false_alarms']/len(gt_dict)*100 #false alarm rate"
   ]
  },
  {
   "cell_type": "code",
   "execution_count": null,
   "id": "312ae87b",
   "metadata": {},
   "outputs": [],
   "source": []
  }
 ],
 "metadata": {
  "kernelspec": {
   "display_name": "Python 3",
   "language": "python",
   "name": "python3"
  },
  "language_info": {
   "codemirror_mode": {
    "name": "ipython",
    "version": 3
   },
   "file_extension": ".py",
   "mimetype": "text/x-python",
   "name": "python",
   "nbconvert_exporter": "python",
   "pygments_lexer": "ipython3",
   "version": "3.9.2"
  }
 },
 "nbformat": 4,
 "nbformat_minor": 5
}
